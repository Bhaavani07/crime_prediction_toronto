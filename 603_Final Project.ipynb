{
 "cells": [
  {
   "cell_type": "markdown",
   "id": "cabb5e08",
   "metadata": {},
   "source": [
    "# 603 Final Project\n",
    "\n",
    "### Team Members:\n",
    "   #### Lavanya Mamillapalli ( QW21097)\n",
    "   #### Bhaavani Madabathula \n",
    "   #### Leela Manikanta Cheekatla (JX33255)"
   ]
  },
  {
   "cell_type": "markdown",
   "id": "d1a7888b",
   "metadata": {},
   "source": [
    "### Data:\n",
    "   http://data.torontopolice.on.ca/pages/open-data/Major_Crime_Indicators_Open_Data.csv"
   ]
  },
  {
   "cell_type": "markdown",
   "id": "2ba8433c",
   "metadata": {},
   "source": [
    "### Objective:\n",
    "    The following project is a Multi-class classification model for predicting the types of crimes in Toronto city. Here, using big data, we has constructed a five-class classification model using a Logistic Regression classifier to predict the type of major crime committed based on time of day, neighborhood, division, year, month, etc. using data sourced from Toronto Police.\n",
    "\n",
    "    The use of big data analytics here is to discover crime tendencies automatically. If analysts are given automated, data-driven tools to discover crime patterns, these tools can help police better comprehend crime patterns, allowing for more precise estimates of past crimes and increasing suspicion of suspects."
   ]
  },
  {
   "cell_type": "markdown",
   "id": "ae0bd990",
   "metadata": {},
   "source": [
    "### Basic Analysis"
   ]
  },
  {
   "cell_type": "markdown",
   "id": "56d23da6",
   "metadata": {},
   "source": [
    "### Importing Required Libraries"
   ]
  },
  {
   "cell_type": "code",
   "execution_count": 1,
   "id": "c6f6030f",
   "metadata": {},
   "outputs": [],
   "source": [
    "#imported all required packages\n",
    "import pandas as pd\n",
    "import numpy as np\n",
    "from sklearn.model_selection import train_test_split\n",
    "from sklearn.preprocessing import OneHotEncoder\n",
    "import seaborn as sns\n",
    "from sklearn.metrics import confusion_matrix, classification_report, accuracy_score"
   ]
  },
  {
   "cell_type": "code",
   "execution_count": 2,
   "id": "fd265e0a",
   "metadata": {},
   "outputs": [],
   "source": [
    "import warnings\n",
    "warnings.filterwarnings('ignore')"
   ]
  },
  {
   "cell_type": "code",
   "execution_count": 4,
   "id": "598c450c",
   "metadata": {},
   "outputs": [
    {
     "data": {
      "text/html": [
       "<div>\n",
       "<style scoped>\n",
       "    .dataframe tbody tr th:only-of-type {\n",
       "        vertical-align: middle;\n",
       "    }\n",
       "\n",
       "    .dataframe tbody tr th {\n",
       "        vertical-align: top;\n",
       "    }\n",
       "\n",
       "    .dataframe thead th {\n",
       "        text-align: right;\n",
       "    }\n",
       "</style>\n",
       "<table border=\"1\" class=\"dataframe\">\n",
       "  <thead>\n",
       "    <tr style=\"text-align: right;\">\n",
       "      <th></th>\n",
       "      <th>X</th>\n",
       "      <th>Y</th>\n",
       "      <th>OBJECTID</th>\n",
       "      <th>EVENT_UNIQUE_ID</th>\n",
       "      <th>REPORT_DATE</th>\n",
       "      <th>OCC_DATE</th>\n",
       "      <th>REPORT_YEAR</th>\n",
       "      <th>REPORT_MONTH</th>\n",
       "      <th>REPORT_DAY</th>\n",
       "      <th>REPORT_DOY</th>\n",
       "      <th>...</th>\n",
       "      <th>UCR_CODE</th>\n",
       "      <th>UCR_EXT</th>\n",
       "      <th>OFFENCE</th>\n",
       "      <th>MCI_CATEGORY</th>\n",
       "      <th>HOOD_158</th>\n",
       "      <th>NEIGHBOURHOOD_158</th>\n",
       "      <th>HOOD_140</th>\n",
       "      <th>NEIGHBOURHOOD_140</th>\n",
       "      <th>LONG_WGS84</th>\n",
       "      <th>LAT_WGS84</th>\n",
       "    </tr>\n",
       "  </thead>\n",
       "  <tbody>\n",
       "    <tr>\n",
       "      <th>0</th>\n",
       "      <td>-79.425896</td>\n",
       "      <td>43.757346</td>\n",
       "      <td>1</td>\n",
       "      <td>GO-20141262074</td>\n",
       "      <td>2014/01/01 05:00:00+00</td>\n",
       "      <td>1998/06/01 04:00:00+00</td>\n",
       "      <td>2014</td>\n",
       "      <td>January</td>\n",
       "      <td>1</td>\n",
       "      <td>1</td>\n",
       "      <td>...</td>\n",
       "      <td>1480</td>\n",
       "      <td>110</td>\n",
       "      <td>Administering Noxious Thing</td>\n",
       "      <td>Assault</td>\n",
       "      <td>38</td>\n",
       "      <td>Lansing-Westgate</td>\n",
       "      <td>38</td>\n",
       "      <td>Lansing-Westgate (38)</td>\n",
       "      <td>-79.425896</td>\n",
       "      <td>43.757346</td>\n",
       "    </tr>\n",
       "    <tr>\n",
       "      <th>1</th>\n",
       "      <td>-79.350229</td>\n",
       "      <td>43.646293</td>\n",
       "      <td>2</td>\n",
       "      <td>GO-20141260701</td>\n",
       "      <td>2014/01/01 05:00:00+00</td>\n",
       "      <td>2014/01/01 05:00:00+00</td>\n",
       "      <td>2014</td>\n",
       "      <td>January</td>\n",
       "      <td>1</td>\n",
       "      <td>1</td>\n",
       "      <td>...</td>\n",
       "      <td>2120</td>\n",
       "      <td>200</td>\n",
       "      <td>B&amp;E</td>\n",
       "      <td>Break and Enter</td>\n",
       "      <td>70</td>\n",
       "      <td>South Riverdale</td>\n",
       "      <td>70</td>\n",
       "      <td>South Riverdale (70)</td>\n",
       "      <td>-79.350229</td>\n",
       "      <td>43.646293</td>\n",
       "    </tr>\n",
       "    <tr>\n",
       "      <th>2</th>\n",
       "      <td>-79.376497</td>\n",
       "      <td>43.666423</td>\n",
       "      <td>3</td>\n",
       "      <td>GO-20141260889</td>\n",
       "      <td>2014/01/01 05:00:00+00</td>\n",
       "      <td>2014/01/01 05:00:00+00</td>\n",
       "      <td>2014</td>\n",
       "      <td>January</td>\n",
       "      <td>1</td>\n",
       "      <td>1</td>\n",
       "      <td>...</td>\n",
       "      <td>1430</td>\n",
       "      <td>100</td>\n",
       "      <td>Assault</td>\n",
       "      <td>Assault</td>\n",
       "      <td>74</td>\n",
       "      <td>North St.James Town</td>\n",
       "      <td>74</td>\n",
       "      <td>North St.James Town (74)</td>\n",
       "      <td>-79.376497</td>\n",
       "      <td>43.666423</td>\n",
       "    </tr>\n",
       "    <tr>\n",
       "      <th>3</th>\n",
       "      <td>-85.488744</td>\n",
       "      <td>0.000000</td>\n",
       "      <td>4</td>\n",
       "      <td>GO-20141260973</td>\n",
       "      <td>2014/01/01 05:00:00+00</td>\n",
       "      <td>2014/01/01 05:00:00+00</td>\n",
       "      <td>2014</td>\n",
       "      <td>January</td>\n",
       "      <td>1</td>\n",
       "      <td>1</td>\n",
       "      <td>...</td>\n",
       "      <td>2130</td>\n",
       "      <td>210</td>\n",
       "      <td>Theft Over</td>\n",
       "      <td>Theft Over</td>\n",
       "      <td>NSA</td>\n",
       "      <td>NSA</td>\n",
       "      <td>NSA</td>\n",
       "      <td>NSA</td>\n",
       "      <td>-85.488744</td>\n",
       "      <td>0.000000</td>\n",
       "    </tr>\n",
       "    <tr>\n",
       "      <th>4</th>\n",
       "      <td>-79.344839</td>\n",
       "      <td>43.678946</td>\n",
       "      <td>5</td>\n",
       "      <td>GO-20141261050</td>\n",
       "      <td>2014/01/01 05:00:00+00</td>\n",
       "      <td>2014/01/01 05:00:00+00</td>\n",
       "      <td>2014</td>\n",
       "      <td>January</td>\n",
       "      <td>1</td>\n",
       "      <td>1</td>\n",
       "      <td>...</td>\n",
       "      <td>1430</td>\n",
       "      <td>100</td>\n",
       "      <td>Assault</td>\n",
       "      <td>Assault</td>\n",
       "      <td>69</td>\n",
       "      <td>Blake-Jones</td>\n",
       "      <td>66</td>\n",
       "      <td>Danforth (66)</td>\n",
       "      <td>-79.344839</td>\n",
       "      <td>43.678946</td>\n",
       "    </tr>\n",
       "    <tr>\n",
       "      <th>...</th>\n",
       "      <td>...</td>\n",
       "      <td>...</td>\n",
       "      <td>...</td>\n",
       "      <td>...</td>\n",
       "      <td>...</td>\n",
       "      <td>...</td>\n",
       "      <td>...</td>\n",
       "      <td>...</td>\n",
       "      <td>...</td>\n",
       "      <td>...</td>\n",
       "      <td>...</td>\n",
       "      <td>...</td>\n",
       "      <td>...</td>\n",
       "      <td>...</td>\n",
       "      <td>...</td>\n",
       "      <td>...</td>\n",
       "      <td>...</td>\n",
       "      <td>...</td>\n",
       "      <td>...</td>\n",
       "      <td>...</td>\n",
       "      <td>...</td>\n",
       "    </tr>\n",
       "    <tr>\n",
       "      <th>323291</th>\n",
       "      <td>-79.301740</td>\n",
       "      <td>43.736102</td>\n",
       "      <td>323292</td>\n",
       "      <td>GO-20222554300</td>\n",
       "      <td>2022/12/31 05:00:00+00</td>\n",
       "      <td>2022/12/22 05:00:00+00</td>\n",
       "      <td>2022</td>\n",
       "      <td>December</td>\n",
       "      <td>31</td>\n",
       "      <td>365</td>\n",
       "      <td>...</td>\n",
       "      <td>2120</td>\n",
       "      <td>220</td>\n",
       "      <td>B&amp;E W'Intent</td>\n",
       "      <td>Break and Enter</td>\n",
       "      <td>119</td>\n",
       "      <td>Wexford/Maryvale</td>\n",
       "      <td>119</td>\n",
       "      <td>Wexford/Maryvale (119)</td>\n",
       "      <td>-79.301740</td>\n",
       "      <td>43.736102</td>\n",
       "    </tr>\n",
       "    <tr>\n",
       "      <th>323292</th>\n",
       "      <td>-79.258639</td>\n",
       "      <td>43.828794</td>\n",
       "      <td>323293</td>\n",
       "      <td>GO-20222557893</td>\n",
       "      <td>2022/12/31 05:00:00+00</td>\n",
       "      <td>2022/12/31 05:00:00+00</td>\n",
       "      <td>2022</td>\n",
       "      <td>December</td>\n",
       "      <td>31</td>\n",
       "      <td>365</td>\n",
       "      <td>...</td>\n",
       "      <td>2120</td>\n",
       "      <td>200</td>\n",
       "      <td>B&amp;E</td>\n",
       "      <td>Break and Enter</td>\n",
       "      <td>130</td>\n",
       "      <td>Milliken</td>\n",
       "      <td>130</td>\n",
       "      <td>Milliken (130)</td>\n",
       "      <td>-79.258639</td>\n",
       "      <td>43.828794</td>\n",
       "    </tr>\n",
       "    <tr>\n",
       "      <th>323293</th>\n",
       "      <td>-79.425645</td>\n",
       "      <td>43.701404</td>\n",
       "      <td>323294</td>\n",
       "      <td>GO-20222559486</td>\n",
       "      <td>2022/12/31 05:00:00+00</td>\n",
       "      <td>2022/12/22 05:00:00+00</td>\n",
       "      <td>2022</td>\n",
       "      <td>December</td>\n",
       "      <td>31</td>\n",
       "      <td>365</td>\n",
       "      <td>...</td>\n",
       "      <td>1430</td>\n",
       "      <td>100</td>\n",
       "      <td>Assault</td>\n",
       "      <td>Assault</td>\n",
       "      <td>102</td>\n",
       "      <td>Forest Hill North</td>\n",
       "      <td>102</td>\n",
       "      <td>Forest Hill North (102)</td>\n",
       "      <td>-79.425645</td>\n",
       "      <td>43.701404</td>\n",
       "    </tr>\n",
       "    <tr>\n",
       "      <th>323294</th>\n",
       "      <td>-79.385170</td>\n",
       "      <td>43.672134</td>\n",
       "      <td>323295</td>\n",
       "      <td>GO-20222557956</td>\n",
       "      <td>2022/12/31 05:00:00+00</td>\n",
       "      <td>2022/12/31 05:00:00+00</td>\n",
       "      <td>2022</td>\n",
       "      <td>December</td>\n",
       "      <td>31</td>\n",
       "      <td>365</td>\n",
       "      <td>...</td>\n",
       "      <td>1430</td>\n",
       "      <td>100</td>\n",
       "      <td>Assault</td>\n",
       "      <td>Assault</td>\n",
       "      <td>98</td>\n",
       "      <td>Rosedale-Moore Park</td>\n",
       "      <td>98</td>\n",
       "      <td>Rosedale-Moore Park (98)</td>\n",
       "      <td>-79.385170</td>\n",
       "      <td>43.672134</td>\n",
       "    </tr>\n",
       "    <tr>\n",
       "      <th>323295</th>\n",
       "      <td>-79.248081</td>\n",
       "      <td>43.736690</td>\n",
       "      <td>323296</td>\n",
       "      <td>GO-20222558010</td>\n",
       "      <td>2022/12/31 05:00:00+00</td>\n",
       "      <td>2022/12/31 05:00:00+00</td>\n",
       "      <td>2022</td>\n",
       "      <td>December</td>\n",
       "      <td>31</td>\n",
       "      <td>365</td>\n",
       "      <td>...</td>\n",
       "      <td>2120</td>\n",
       "      <td>200</td>\n",
       "      <td>B&amp;E</td>\n",
       "      <td>Break and Enter</td>\n",
       "      <td>138</td>\n",
       "      <td>Eglinton East</td>\n",
       "      <td>138</td>\n",
       "      <td>Eglinton East (138)</td>\n",
       "      <td>-79.248081</td>\n",
       "      <td>43.736690</td>\n",
       "    </tr>\n",
       "  </tbody>\n",
       "</table>\n",
       "<p>323296 rows × 31 columns</p>\n",
       "</div>"
      ],
      "text/plain": [
       "                X          Y  OBJECTID EVENT_UNIQUE_ID  \\\n",
       "0      -79.425896  43.757346         1  GO-20141262074   \n",
       "1      -79.350229  43.646293         2  GO-20141260701   \n",
       "2      -79.376497  43.666423         3  GO-20141260889   \n",
       "3      -85.488744   0.000000         4  GO-20141260973   \n",
       "4      -79.344839  43.678946         5  GO-20141261050   \n",
       "...           ...        ...       ...             ...   \n",
       "323291 -79.301740  43.736102    323292  GO-20222554300   \n",
       "323292 -79.258639  43.828794    323293  GO-20222557893   \n",
       "323293 -79.425645  43.701404    323294  GO-20222559486   \n",
       "323294 -79.385170  43.672134    323295  GO-20222557956   \n",
       "323295 -79.248081  43.736690    323296  GO-20222558010   \n",
       "\n",
       "                   REPORT_DATE                OCC_DATE  REPORT_YEAR  \\\n",
       "0       2014/01/01 05:00:00+00  1998/06/01 04:00:00+00         2014   \n",
       "1       2014/01/01 05:00:00+00  2014/01/01 05:00:00+00         2014   \n",
       "2       2014/01/01 05:00:00+00  2014/01/01 05:00:00+00         2014   \n",
       "3       2014/01/01 05:00:00+00  2014/01/01 05:00:00+00         2014   \n",
       "4       2014/01/01 05:00:00+00  2014/01/01 05:00:00+00         2014   \n",
       "...                        ...                     ...          ...   \n",
       "323291  2022/12/31 05:00:00+00  2022/12/22 05:00:00+00         2022   \n",
       "323292  2022/12/31 05:00:00+00  2022/12/31 05:00:00+00         2022   \n",
       "323293  2022/12/31 05:00:00+00  2022/12/22 05:00:00+00         2022   \n",
       "323294  2022/12/31 05:00:00+00  2022/12/31 05:00:00+00         2022   \n",
       "323295  2022/12/31 05:00:00+00  2022/12/31 05:00:00+00         2022   \n",
       "\n",
       "       REPORT_MONTH  REPORT_DAY  REPORT_DOY  ... UCR_CODE  UCR_EXT  \\\n",
       "0           January           1           1  ...     1480      110   \n",
       "1           January           1           1  ...     2120      200   \n",
       "2           January           1           1  ...     1430      100   \n",
       "3           January           1           1  ...     2130      210   \n",
       "4           January           1           1  ...     1430      100   \n",
       "...             ...         ...         ...  ...      ...      ...   \n",
       "323291     December          31         365  ...     2120      220   \n",
       "323292     December          31         365  ...     2120      200   \n",
       "323293     December          31         365  ...     1430      100   \n",
       "323294     December          31         365  ...     1430      100   \n",
       "323295     December          31         365  ...     2120      200   \n",
       "\n",
       "                            OFFENCE     MCI_CATEGORY  HOOD_158  \\\n",
       "0       Administering Noxious Thing          Assault        38   \n",
       "1                               B&E  Break and Enter        70   \n",
       "2                           Assault          Assault        74   \n",
       "3                        Theft Over       Theft Over       NSA   \n",
       "4                           Assault          Assault        69   \n",
       "...                             ...              ...       ...   \n",
       "323291                 B&E W'Intent  Break and Enter       119   \n",
       "323292                          B&E  Break and Enter       130   \n",
       "323293                      Assault          Assault       102   \n",
       "323294                      Assault          Assault        98   \n",
       "323295                          B&E  Break and Enter       138   \n",
       "\n",
       "          NEIGHBOURHOOD_158 HOOD_140         NEIGHBOURHOOD_140 LONG_WGS84  \\\n",
       "0          Lansing-Westgate       38     Lansing-Westgate (38) -79.425896   \n",
       "1           South Riverdale       70      South Riverdale (70) -79.350229   \n",
       "2       North St.James Town       74  North St.James Town (74) -79.376497   \n",
       "3                       NSA      NSA                       NSA -85.488744   \n",
       "4               Blake-Jones       66             Danforth (66) -79.344839   \n",
       "...                     ...      ...                       ...        ...   \n",
       "323291     Wexford/Maryvale      119    Wexford/Maryvale (119) -79.301740   \n",
       "323292             Milliken      130            Milliken (130) -79.258639   \n",
       "323293    Forest Hill North      102   Forest Hill North (102) -79.425645   \n",
       "323294  Rosedale-Moore Park       98  Rosedale-Moore Park (98) -79.385170   \n",
       "323295        Eglinton East      138       Eglinton East (138) -79.248081   \n",
       "\n",
       "        LAT_WGS84  \n",
       "0       43.757346  \n",
       "1       43.646293  \n",
       "2       43.666423  \n",
       "3        0.000000  \n",
       "4       43.678946  \n",
       "...           ...  \n",
       "323291  43.736102  \n",
       "323292  43.828794  \n",
       "323293  43.701404  \n",
       "323294  43.672134  \n",
       "323295  43.736690  \n",
       "\n",
       "[323296 rows x 31 columns]"
      ]
     },
     "execution_count": 4,
     "metadata": {},
     "output_type": "execute_result"
    }
   ],
   "source": [
    "#import full data set\n",
    "df = pd.read_csv(r\"C:\\Users\\lavan\\Downloads\\Major_Crime_Indicators_Open_Data.csv\",sep=',') \n",
    "df"
   ]
  },
  {
   "cell_type": "code",
   "execution_count": 5,
   "id": "a018e881",
   "metadata": {},
   "outputs": [
    {
     "name": "stdout",
     "output_type": "stream",
     "text": [
      "<class 'pandas.core.frame.DataFrame'>\n",
      "RangeIndex: 323296 entries, 0 to 323295\n",
      "Data columns (total 31 columns):\n",
      " #   Column             Non-Null Count   Dtype  \n",
      "---  ------             --------------   -----  \n",
      " 0   X                  323296 non-null  float64\n",
      " 1   Y                  323296 non-null  float64\n",
      " 2   OBJECTID           323296 non-null  int64  \n",
      " 3   EVENT_UNIQUE_ID    323296 non-null  object \n",
      " 4   REPORT_DATE        323296 non-null  object \n",
      " 5   OCC_DATE           323296 non-null  object \n",
      " 6   REPORT_YEAR        323296 non-null  int64  \n",
      " 7   REPORT_MONTH       323296 non-null  object \n",
      " 8   REPORT_DAY         323296 non-null  int64  \n",
      " 9   REPORT_DOY         323296 non-null  int64  \n",
      " 10  REPORT_DOW         323296 non-null  object \n",
      " 11  REPORT_HOUR        323296 non-null  int64  \n",
      " 12  OCC_YEAR           323191 non-null  float64\n",
      " 13  OCC_MONTH          323191 non-null  object \n",
      " 14  OCC_DAY            323191 non-null  float64\n",
      " 15  OCC_DOY            323191 non-null  float64\n",
      " 16  OCC_DOW            323191 non-null  object \n",
      " 17  OCC_HOUR           323296 non-null  int64  \n",
      " 18  DIVISION           323296 non-null  object \n",
      " 19  LOCATION_TYPE      323296 non-null  object \n",
      " 20  PREMISES_TYPE      323296 non-null  object \n",
      " 21  UCR_CODE           323296 non-null  int64  \n",
      " 22  UCR_EXT            323296 non-null  int64  \n",
      " 23  OFFENCE            323296 non-null  object \n",
      " 24  MCI_CATEGORY       323296 non-null  object \n",
      " 25  HOOD_158           323296 non-null  object \n",
      " 26  NEIGHBOURHOOD_158  323296 non-null  object \n",
      " 27  HOOD_140           323296 non-null  object \n",
      " 28  NEIGHBOURHOOD_140  323296 non-null  object \n",
      " 29  LONG_WGS84         323296 non-null  float64\n",
      " 30  LAT_WGS84          323296 non-null  float64\n",
      "dtypes: float64(7), int64(8), object(16)\n",
      "memory usage: 76.5+ MB\n"
     ]
    }
   ],
   "source": [
    "df.info()"
   ]
  },
  {
   "cell_type": "markdown",
   "id": "168f9268",
   "metadata": {},
   "source": [
    "## Dimensionalities of the dataframe"
   ]
  },
  {
   "cell_type": "code",
   "execution_count": 6,
   "id": "9853ade7",
   "metadata": {},
   "outputs": [
    {
     "name": "stdout",
     "output_type": "stream",
     "text": [
      "Number of rows  323296\n",
      "Number of Columns  31\n"
     ]
    }
   ],
   "source": [
    "print(\"Number of rows \",df.shape[0])\n",
    "print(\"Number of Columns \",df.shape[1])"
   ]
  },
  {
   "cell_type": "markdown",
   "id": "e43fc3b7",
   "metadata": {},
   "source": [
    "## Histogram of the dataframe"
   ]
  },
  {
   "cell_type": "code",
   "execution_count": 7,
   "id": "19373508",
   "metadata": {},
   "outputs": [
    {
     "data": {
      "text/plain": [
       "array([[<AxesSubplot:title={'center':'X'}>,\n",
       "        <AxesSubplot:title={'center':'Y'}>,\n",
       "        <AxesSubplot:title={'center':'OBJECTID'}>,\n",
       "        <AxesSubplot:title={'center':'REPORT_YEAR'}>],\n",
       "       [<AxesSubplot:title={'center':'REPORT_DAY'}>,\n",
       "        <AxesSubplot:title={'center':'REPORT_DOY'}>,\n",
       "        <AxesSubplot:title={'center':'REPORT_HOUR'}>,\n",
       "        <AxesSubplot:title={'center':'OCC_YEAR'}>],\n",
       "       [<AxesSubplot:title={'center':'OCC_DAY'}>,\n",
       "        <AxesSubplot:title={'center':'OCC_DOY'}>,\n",
       "        <AxesSubplot:title={'center':'OCC_HOUR'}>,\n",
       "        <AxesSubplot:title={'center':'UCR_CODE'}>],\n",
       "       [<AxesSubplot:title={'center':'UCR_EXT'}>,\n",
       "        <AxesSubplot:title={'center':'LONG_WGS84'}>,\n",
       "        <AxesSubplot:title={'center':'LAT_WGS84'}>, <AxesSubplot:>]],\n",
       "      dtype=object)"
      ]
     },
     "execution_count": 7,
     "metadata": {},
     "output_type": "execute_result"
    },
    {
     "data": {
      "image/png": "[encoded data removed]",
      "text/plain": [
       "<Figure size 1440x720 with 16 Axes>"
      ]
     },
     "metadata": {
      "needs_background": "light"
     },
     "output_type": "display_data"
    }
   ],
   "source": [
    "df.hist(color='teal',figsize=(20,10))"
   ]
  },
  {
   "cell_type": "code",
   "execution_count": 8,
   "id": "e2a455da",
   "metadata": {},
   "outputs": [
    {
     "data": {
      "text/plain": [
       "<AxesSubplot:>"
      ]
     },
     "execution_count": 8,
     "metadata": {},
     "output_type": "execute_result"
    },
    {
     "data": {
      "image/png": "[encoded data removed]",
      "text/plain": [
       "<Figure size 432x288 with 1 Axes>"
      ]
     },
     "metadata": {
      "needs_background": "light"
     },
     "output_type": "display_data"
    }
   ],
   "source": [
    "df[\"MCI_CATEGORY\"].value_counts().plot(kind='bar',color='plum')"
   ]
  },
  {
   "cell_type": "code",
   "execution_count": 9,
   "id": "62d177d2",
   "metadata": {},
   "outputs": [
    {
     "name": "stdout",
     "output_type": "stream",
     "text": [
      "Assault            173238\n",
      "Break and Enter     62527\n",
      "Auto Theft          46048\n",
      "Robbery             30738\n",
      "Theft Over          10745\n",
      "Name: MCI_CATEGORY, dtype: int64\n"
     ]
    }
   ],
   "source": [
    "Top_Crimes =  df[\"MCI_CATEGORY\"].value_counts().sort_values(ascending=False).head(10)\n",
    "print(Top_Crimes)"
   ]
  },
  {
   "cell_type": "code",
   "execution_count": 10,
   "id": "93a17842",
   "metadata": {},
   "outputs": [
    {
     "data": {
      "image/png": "[encoded data removed]",
      "text/plain": [
       "<Figure size 432x288 with 1 Axes>"
      ]
     },
     "metadata": {
      "needs_background": "light"
     },
     "output_type": "display_data"
    }
   ],
   "source": [
    "import matplotlib.pyplot as plt\n",
    "\n",
    "TopCrimes = df.value_counts('MCI_CATEGORY').\\\n",
    "    plot(kind = 'barh',\\\n",
    "         title = \"Top Crimes\", color='lightcoral'\n",
    "        )\n",
    "\n",
    "Top10Crimes.set_xlabel(\"Count\")\n",
    "Top10Crimes.set_ylabel(\"Crime\")\n",
    "plt.show()\n"
   ]
  },
  {
   "cell_type": "code",
   "execution_count": 11,
   "id": "1b394de8",
   "metadata": {},
   "outputs": [
    {
     "data": {
      "image/png": "[encoded data removed]",
      "text/plain": [
       "<Figure size 432x288 with 1 Axes>"
      ]
     },
     "metadata": {
      "needs_background": "light"
     },
     "output_type": "display_data"
    }
   ],
   "source": [
    "df.groupby([df['REPORT_MONTH']]).size()[:15].sort_values(ascending=True).plot(kind='barh')\n",
    "plt.ylabel('Months of the year')\n",
    "plt.xlabel('Number of Crimes')\n",
    "plt.title('Number of Crimes by month of the year')\n",
    "plt.show()"
   ]
  },
  {
   "cell_type": "code",
   "execution_count": 73,
   "id": "a5a5871f",
   "metadata": {},
   "outputs": [
    {
     "data": {
      "text/plain": [
       "Text(0.5, 1.0, 'Crime per division ')"
      ]
     },
     "execution_count": 73,
     "metadata": {},
     "output_type": "execute_result"
    },
    {
     "data": {
      "image/png": "[encoded data removed]",
      "text/plain": [
       "<Figure size 720x360 with 1 Axes>"
      ]
     },
     "metadata": {
      "needs_background": "light"
     },
     "output_type": "display_data"
    }
   ],
   "source": [
    "plt.figure(figsize=(10,5))\n",
    "sns.countplot(x = df['DIVISION'])\n",
    "plt.axhline(df['DIVISION'].value_counts().mean(), color = 'black', alpha = 0.5)\n",
    "plt.xlabel('DIVISION')\n",
    "plt.ylabel('Total crime')\n",
    "plt.title('Crime per division ')"
   ]
  },
  {
   "cell_type": "code",
   "execution_count": 71,
   "id": "5a4ec63e",
   "metadata": {},
   "outputs": [
    {
     "data": {
      "image/png": "[encoded data removed]",
      "text/plain": [
       "<Figure size 720x720 with 1 Axes>"
      ]
     },
     "metadata": {
      "needs_background": "light"
     },
     "output_type": "display_data"
    }
   ],
   "source": [
    "plt.figure(figsize=(10,10))\n",
    "df.groupby([df['LOCATION_TYPE']]).size()[:30].sort_values(ascending=True).plot(kind='barh')\n",
    "plt.title('Number of Crimes by Location')\n",
    "plt.ylabel('Crime Location')\n",
    "plt.xlabel('Number of Crimes')\n",
    "plt.show()"
   ]
  },
  {
   "cell_type": "code",
   "execution_count": 12,
   "id": "1b0dbf88",
   "metadata": {},
   "outputs": [
    {
     "data": {
      "text/plain": [
       "<AxesSubplot:>"
      ]
     },
     "execution_count": 12,
     "metadata": {},
     "output_type": "execute_result"
    },
    {
     "data": {
      "image/png": "[encoded data removed]",
      "text/plain": [
       "<Figure size 864x720 with 2 Axes>"
      ]
     },
     "metadata": {
      "needs_background": "light"
     },
     "output_type": "display_data"
    }
   ],
   "source": [
    "plt.figure(figsize=(12,10))\n",
    "sns.heatmap(df.corr(),annot=True)"
   ]
  },
  {
   "cell_type": "code",
   "execution_count": 13,
   "id": "4acce5b4",
   "metadata": {},
   "outputs": [
    {
     "data": {
      "text/html": [
       "<div>\n",
       "<style scoped>\n",
       "    .dataframe tbody tr th:only-of-type {\n",
       "        vertical-align: middle;\n",
       "    }\n",
       "\n",
       "    .dataframe tbody tr th {\n",
       "        vertical-align: top;\n",
       "    }\n",
       "\n",
       "    .dataframe thead th {\n",
       "        text-align: right;\n",
       "    }\n",
       "</style>\n",
       "<table border=\"1\" class=\"dataframe\">\n",
       "  <thead>\n",
       "    <tr style=\"text-align: right;\">\n",
       "      <th></th>\n",
       "      <th>X</th>\n",
       "      <th>Y</th>\n",
       "      <th>OBJECTID</th>\n",
       "      <th>REPORT_YEAR</th>\n",
       "      <th>REPORT_DAY</th>\n",
       "      <th>REPORT_DOY</th>\n",
       "      <th>REPORT_HOUR</th>\n",
       "      <th>OCC_YEAR</th>\n",
       "      <th>OCC_DAY</th>\n",
       "      <th>OCC_DOY</th>\n",
       "      <th>OCC_HOUR</th>\n",
       "      <th>UCR_CODE</th>\n",
       "      <th>UCR_EXT</th>\n",
       "      <th>LONG_WGS84</th>\n",
       "      <th>LAT_WGS84</th>\n",
       "    </tr>\n",
       "  </thead>\n",
       "  <tbody>\n",
       "    <tr>\n",
       "      <th>count</th>\n",
       "      <td>323296.000000</td>\n",
       "      <td>323296.000000</td>\n",
       "      <td>323296.000000</td>\n",
       "      <td>323296.000000</td>\n",
       "      <td>323296.000000</td>\n",
       "      <td>323296.000000</td>\n",
       "      <td>323296.000000</td>\n",
       "      <td>323191.000000</td>\n",
       "      <td>323191.000000</td>\n",
       "      <td>323191.000000</td>\n",
       "      <td>323296.000000</td>\n",
       "      <td>323296.000000</td>\n",
       "      <td>323296.000000</td>\n",
       "      <td>323296.000000</td>\n",
       "      <td>323296.000000</td>\n",
       "    </tr>\n",
       "    <tr>\n",
       "      <th>mean</th>\n",
       "      <td>-79.475536</td>\n",
       "      <td>43.144559</td>\n",
       "      <td>161648.500000</td>\n",
       "      <td>2018.158115</td>\n",
       "      <td>15.744995</td>\n",
       "      <td>187.147781</td>\n",
       "      <td>12.779688</td>\n",
       "      <td>2018.103796</td>\n",
       "      <td>15.456541</td>\n",
       "      <td>186.458639</td>\n",
       "      <td>12.595844</td>\n",
       "      <td>1704.459133</td>\n",
       "      <td>146.771216</td>\n",
       "      <td>-79.475536</td>\n",
       "      <td>43.144559</td>\n",
       "    </tr>\n",
       "    <tr>\n",
       "      <th>std</th>\n",
       "      <td>0.694300</td>\n",
       "      <td>4.925584</td>\n",
       "      <td>93327.660651</td>\n",
       "      <td>2.571347</td>\n",
       "      <td>8.769573</td>\n",
       "      <td>103.790065</td>\n",
       "      <td>6.491146</td>\n",
       "      <td>2.610093</td>\n",
       "      <td>8.920467</td>\n",
       "      <td>104.127326</td>\n",
       "      <td>7.254996</td>\n",
       "      <td>327.123233</td>\n",
       "      <td>52.068977</td>\n",
       "      <td>0.694300</td>\n",
       "      <td>4.925584</td>\n",
       "    </tr>\n",
       "    <tr>\n",
       "      <th>min</th>\n",
       "      <td>-85.488744</td>\n",
       "      <td>0.000000</td>\n",
       "      <td>1.000000</td>\n",
       "      <td>2014.000000</td>\n",
       "      <td>1.000000</td>\n",
       "      <td>1.000000</td>\n",
       "      <td>0.000000</td>\n",
       "      <td>2000.000000</td>\n",
       "      <td>1.000000</td>\n",
       "      <td>1.000000</td>\n",
       "      <td>0.000000</td>\n",
       "      <td>1410.000000</td>\n",
       "      <td>100.000000</td>\n",
       "      <td>-85.488744</td>\n",
       "      <td>0.000000</td>\n",
       "    </tr>\n",
       "    <tr>\n",
       "      <th>25%</th>\n",
       "      <td>-79.478939</td>\n",
       "      <td>43.659896</td>\n",
       "      <td>80824.750000</td>\n",
       "      <td>2016.000000</td>\n",
       "      <td>8.000000</td>\n",
       "      <td>99.000000</td>\n",
       "      <td>8.000000</td>\n",
       "      <td>2016.000000</td>\n",
       "      <td>8.000000</td>\n",
       "      <td>98.000000</td>\n",
       "      <td>7.000000</td>\n",
       "      <td>1430.000000</td>\n",
       "      <td>100.000000</td>\n",
       "      <td>-79.478939</td>\n",
       "      <td>43.659896</td>\n",
       "    </tr>\n",
       "    <tr>\n",
       "      <th>50%</th>\n",
       "      <td>-79.396397</td>\n",
       "      <td>43.699304</td>\n",
       "      <td>161648.500000</td>\n",
       "      <td>2018.000000</td>\n",
       "      <td>16.000000</td>\n",
       "      <td>190.000000</td>\n",
       "      <td>13.000000</td>\n",
       "      <td>2018.000000</td>\n",
       "      <td>15.000000</td>\n",
       "      <td>189.000000</td>\n",
       "      <td>14.000000</td>\n",
       "      <td>1450.000000</td>\n",
       "      <td>100.000000</td>\n",
       "      <td>-79.396397</td>\n",
       "      <td>43.699304</td>\n",
       "    </tr>\n",
       "    <tr>\n",
       "      <th>75%</th>\n",
       "      <td>-79.327244</td>\n",
       "      <td>43.750882</td>\n",
       "      <td>242472.250000</td>\n",
       "      <td>2020.000000</td>\n",
       "      <td>23.000000</td>\n",
       "      <td>277.000000</td>\n",
       "      <td>18.000000</td>\n",
       "      <td>2020.000000</td>\n",
       "      <td>23.000000</td>\n",
       "      <td>276.000000</td>\n",
       "      <td>19.000000</td>\n",
       "      <td>2120.000000</td>\n",
       "      <td>200.000000</td>\n",
       "      <td>-79.327244</td>\n",
       "      <td>43.750882</td>\n",
       "    </tr>\n",
       "    <tr>\n",
       "      <th>max</th>\n",
       "      <td>-78.551414</td>\n",
       "      <td>44.351392</td>\n",
       "      <td>323296.000000</td>\n",
       "      <td>2022.000000</td>\n",
       "      <td>31.000000</td>\n",
       "      <td>366.000000</td>\n",
       "      <td>23.000000</td>\n",
       "      <td>2022.000000</td>\n",
       "      <td>31.000000</td>\n",
       "      <td>366.000000</td>\n",
       "      <td>23.000000</td>\n",
       "      <td>2135.000000</td>\n",
       "      <td>230.000000</td>\n",
       "      <td>-78.551414</td>\n",
       "      <td>44.351392</td>\n",
       "    </tr>\n",
       "  </tbody>\n",
       "</table>\n",
       "</div>"
      ],
      "text/plain": [
       "                   X              Y       OBJECTID    REPORT_YEAR  \\\n",
       "count  323296.000000  323296.000000  323296.000000  323296.000000   \n",
       "mean      -79.475536      43.144559  161648.500000    2018.158115   \n",
       "std         0.694300       4.925584   93327.660651       2.571347   \n",
       "min       -85.488744       0.000000       1.000000    2014.000000   \n",
       "25%       -79.478939      43.659896   80824.750000    2016.000000   \n",
       "50%       -79.396397      43.699304  161648.500000    2018.000000   \n",
       "75%       -79.327244      43.750882  242472.250000    2020.000000   \n",
       "max       -78.551414      44.351392  323296.000000    2022.000000   \n",
       "\n",
       "          REPORT_DAY     REPORT_DOY    REPORT_HOUR       OCC_YEAR  \\\n",
       "count  323296.000000  323296.000000  323296.000000  323191.000000   \n",
       "mean       15.744995     187.147781      12.779688    2018.103796   \n",
       "std         8.769573     103.790065       6.491146       2.610093   \n",
       "min         1.000000       1.000000       0.000000    2000.000000   \n",
       "25%         8.000000      99.000000       8.000000    2016.000000   \n",
       "50%        16.000000     190.000000      13.000000    2018.000000   \n",
       "75%        23.000000     277.000000      18.000000    2020.000000   \n",
       "max        31.000000     366.000000      23.000000    2022.000000   \n",
       "\n",
       "             OCC_DAY        OCC_DOY       OCC_HOUR       UCR_CODE  \\\n",
       "count  323191.000000  323191.000000  323296.000000  323296.000000   \n",
       "mean       15.456541     186.458639      12.595844    1704.459133   \n",
       "std         8.920467     104.127326       7.254996     327.123233   \n",
       "min         1.000000       1.000000       0.000000    1410.000000   \n",
       "25%         8.000000      98.000000       7.000000    1430.000000   \n",
       "50%        15.000000     189.000000      14.000000    1450.000000   \n",
       "75%        23.000000     276.000000      19.000000    2120.000000   \n",
       "max        31.000000     366.000000      23.000000    2135.000000   \n",
       "\n",
       "             UCR_EXT     LONG_WGS84      LAT_WGS84  \n",
       "count  323296.000000  323296.000000  323296.000000  \n",
       "mean      146.771216     -79.475536      43.144559  \n",
       "std        52.068977       0.694300       4.925584  \n",
       "min       100.000000     -85.488744       0.000000  \n",
       "25%       100.000000     -79.478939      43.659896  \n",
       "50%       100.000000     -79.396397      43.699304  \n",
       "75%       200.000000     -79.327244      43.750882  \n",
       "max       230.000000     -78.551414      44.351392  "
      ]
     },
     "execution_count": 13,
     "metadata": {},
     "output_type": "execute_result"
    }
   ],
   "source": [
    "df.describe()"
   ]
  },
  {
   "cell_type": "code",
   "execution_count": 14,
   "id": "8b86d171",
   "metadata": {},
   "outputs": [
    {
     "data": {
      "text/plain": [
       "X                      0\n",
       "Y                      0\n",
       "OBJECTID               0\n",
       "EVENT_UNIQUE_ID        0\n",
       "REPORT_DATE            0\n",
       "OCC_DATE               0\n",
       "REPORT_YEAR            0\n",
       "REPORT_MONTH           0\n",
       "REPORT_DAY             0\n",
       "REPORT_DOY             0\n",
       "REPORT_DOW             0\n",
       "REPORT_HOUR            0\n",
       "OCC_YEAR             105\n",
       "OCC_MONTH            105\n",
       "OCC_DAY              105\n",
       "OCC_DOY              105\n",
       "OCC_DOW              105\n",
       "OCC_HOUR               0\n",
       "DIVISION               0\n",
       "LOCATION_TYPE          0\n",
       "PREMISES_TYPE          0\n",
       "UCR_CODE               0\n",
       "UCR_EXT                0\n",
       "OFFENCE                0\n",
       "MCI_CATEGORY           0\n",
       "HOOD_158               0\n",
       "NEIGHBOURHOOD_158      0\n",
       "HOOD_140               0\n",
       "NEIGHBOURHOOD_140      0\n",
       "LONG_WGS84             0\n",
       "LAT_WGS84              0\n",
       "dtype: int64"
      ]
     },
     "execution_count": 14,
     "metadata": {},
     "output_type": "execute_result"
    }
   ],
   "source": [
    "df.isnull().sum()"
   ]
  },
  {
   "cell_type": "markdown",
   "id": "740e9f3f",
   "metadata": {},
   "source": [
    "## Working with new dataframe"
   ]
  },
  {
   "cell_type": "code",
   "execution_count": 15,
   "id": "53956b91",
   "metadata": {},
   "outputs": [],
   "source": [
    "#list of relevant columns for model\n",
    "col_list = ['EVENT_UNIQUE_ID','REPORT_DATE','OCC_DATE','OCC_YEAR','OCC_MONTH','OCC_DAY','OCC_DOY','OCC_DOW','OCC_HOUR','MCI_CATEGORY','DIVISION','HOOD_158','HOOD_140','LOCATION_TYPE','PREMISES_TYPE','UCR_CODE','UCR_EXT']"
   ]
  },
  {
   "cell_type": "code",
   "execution_count": 16,
   "id": "53ec6e13",
   "metadata": {},
   "outputs": [],
   "source": [
    "#dataframe created from list of relevant columns\n",
    "df2 = df[col_list]"
   ]
  },
  {
   "cell_type": "code",
   "execution_count": 17,
   "id": "5a36fc5f",
   "metadata": {},
   "outputs": [
    {
     "data": {
      "text/html": [
       "<div>\n",
       "<style scoped>\n",
       "    .dataframe tbody tr th:only-of-type {\n",
       "        vertical-align: middle;\n",
       "    }\n",
       "\n",
       "    .dataframe tbody tr th {\n",
       "        vertical-align: top;\n",
       "    }\n",
       "\n",
       "    .dataframe thead th {\n",
       "        text-align: right;\n",
       "    }\n",
       "</style>\n",
       "<table border=\"1\" class=\"dataframe\">\n",
       "  <thead>\n",
       "    <tr style=\"text-align: right;\">\n",
       "      <th></th>\n",
       "      <th>EVENT_UNIQUE_ID</th>\n",
       "      <th>REPORT_DATE</th>\n",
       "      <th>OCC_DATE</th>\n",
       "      <th>OCC_YEAR</th>\n",
       "      <th>OCC_MONTH</th>\n",
       "      <th>OCC_DAY</th>\n",
       "      <th>OCC_DOY</th>\n",
       "      <th>OCC_DOW</th>\n",
       "      <th>OCC_HOUR</th>\n",
       "      <th>MCI_CATEGORY</th>\n",
       "      <th>DIVISION</th>\n",
       "      <th>HOOD_158</th>\n",
       "      <th>HOOD_140</th>\n",
       "      <th>LOCATION_TYPE</th>\n",
       "      <th>PREMISES_TYPE</th>\n",
       "      <th>UCR_CODE</th>\n",
       "      <th>UCR_EXT</th>\n",
       "    </tr>\n",
       "  </thead>\n",
       "  <tbody>\n",
       "    <tr>\n",
       "      <th>1</th>\n",
       "      <td>GO-20141260701</td>\n",
       "      <td>2014/01/01 05:00:00+00</td>\n",
       "      <td>2014/01/01 05:00:00+00</td>\n",
       "      <td>2014.0</td>\n",
       "      <td>January</td>\n",
       "      <td>1.0</td>\n",
       "      <td>1.0</td>\n",
       "      <td>Wednesday</td>\n",
       "      <td>3</td>\n",
       "      <td>Break and Enter</td>\n",
       "      <td>D51</td>\n",
       "      <td>70</td>\n",
       "      <td>70</td>\n",
       "      <td>Commercial Dwelling Unit (Hotel, Motel, B &amp; B,...</td>\n",
       "      <td>Commercial</td>\n",
       "      <td>2120</td>\n",
       "      <td>200</td>\n",
       "    </tr>\n",
       "    <tr>\n",
       "      <th>2</th>\n",
       "      <td>GO-20141260889</td>\n",
       "      <td>2014/01/01 05:00:00+00</td>\n",
       "      <td>2014/01/01 05:00:00+00</td>\n",
       "      <td>2014.0</td>\n",
       "      <td>January</td>\n",
       "      <td>1.0</td>\n",
       "      <td>1.0</td>\n",
       "      <td>Wednesday</td>\n",
       "      <td>4</td>\n",
       "      <td>Assault</td>\n",
       "      <td>D51</td>\n",
       "      <td>74</td>\n",
       "      <td>74</td>\n",
       "      <td>Apartment (Rooming House, Condo)</td>\n",
       "      <td>Apartment</td>\n",
       "      <td>1430</td>\n",
       "      <td>100</td>\n",
       "    </tr>\n",
       "    <tr>\n",
       "      <th>3</th>\n",
       "      <td>GO-20141260973</td>\n",
       "      <td>2014/01/01 05:00:00+00</td>\n",
       "      <td>2014/01/01 05:00:00+00</td>\n",
       "      <td>2014.0</td>\n",
       "      <td>January</td>\n",
       "      <td>1.0</td>\n",
       "      <td>1.0</td>\n",
       "      <td>Wednesday</td>\n",
       "      <td>4</td>\n",
       "      <td>Theft Over</td>\n",
       "      <td>NSA</td>\n",
       "      <td>NSA</td>\n",
       "      <td>NSA</td>\n",
       "      <td>Streets, Roads, Highways (Bicycle Path, Privat...</td>\n",
       "      <td>Outside</td>\n",
       "      <td>2130</td>\n",
       "      <td>210</td>\n",
       "    </tr>\n",
       "    <tr>\n",
       "      <th>4</th>\n",
       "      <td>GO-20141261050</td>\n",
       "      <td>2014/01/01 05:00:00+00</td>\n",
       "      <td>2014/01/01 05:00:00+00</td>\n",
       "      <td>2014.0</td>\n",
       "      <td>January</td>\n",
       "      <td>1.0</td>\n",
       "      <td>1.0</td>\n",
       "      <td>Wednesday</td>\n",
       "      <td>4</td>\n",
       "      <td>Assault</td>\n",
       "      <td>D54</td>\n",
       "      <td>69</td>\n",
       "      <td>66</td>\n",
       "      <td>Streets, Roads, Highways (Bicycle Path, Privat...</td>\n",
       "      <td>Outside</td>\n",
       "      <td>1430</td>\n",
       "      <td>100</td>\n",
       "    </tr>\n",
       "    <tr>\n",
       "      <th>5</th>\n",
       "      <td>GO-20141259344</td>\n",
       "      <td>2014/01/01 05:00:00+00</td>\n",
       "      <td>2014/01/01 05:00:00+00</td>\n",
       "      <td>2014.0</td>\n",
       "      <td>January</td>\n",
       "      <td>1.0</td>\n",
       "      <td>1.0</td>\n",
       "      <td>Wednesday</td>\n",
       "      <td>2</td>\n",
       "      <td>Assault</td>\n",
       "      <td>D52</td>\n",
       "      <td>164</td>\n",
       "      <td>77</td>\n",
       "      <td>Bar / Restaurant</td>\n",
       "      <td>Commercial</td>\n",
       "      <td>1420</td>\n",
       "      <td>110</td>\n",
       "    </tr>\n",
       "    <tr>\n",
       "      <th>...</th>\n",
       "      <td>...</td>\n",
       "      <td>...</td>\n",
       "      <td>...</td>\n",
       "      <td>...</td>\n",
       "      <td>...</td>\n",
       "      <td>...</td>\n",
       "      <td>...</td>\n",
       "      <td>...</td>\n",
       "      <td>...</td>\n",
       "      <td>...</td>\n",
       "      <td>...</td>\n",
       "      <td>...</td>\n",
       "      <td>...</td>\n",
       "      <td>...</td>\n",
       "      <td>...</td>\n",
       "      <td>...</td>\n",
       "      <td>...</td>\n",
       "    </tr>\n",
       "    <tr>\n",
       "      <th>323291</th>\n",
       "      <td>GO-20222554300</td>\n",
       "      <td>2022/12/31 05:00:00+00</td>\n",
       "      <td>2022/12/22 05:00:00+00</td>\n",
       "      <td>2022.0</td>\n",
       "      <td>December</td>\n",
       "      <td>22.0</td>\n",
       "      <td>356.0</td>\n",
       "      <td>Thursday</td>\n",
       "      <td>8</td>\n",
       "      <td>Break and Enter</td>\n",
       "      <td>D41</td>\n",
       "      <td>119</td>\n",
       "      <td>119</td>\n",
       "      <td>Single Home, House (Attach Garage, Cottage, Mo...</td>\n",
       "      <td>House</td>\n",
       "      <td>2120</td>\n",
       "      <td>220</td>\n",
       "    </tr>\n",
       "    <tr>\n",
       "      <th>323292</th>\n",
       "      <td>GO-20222557893</td>\n",
       "      <td>2022/12/31 05:00:00+00</td>\n",
       "      <td>2022/12/31 05:00:00+00</td>\n",
       "      <td>2022.0</td>\n",
       "      <td>December</td>\n",
       "      <td>31.0</td>\n",
       "      <td>365.0</td>\n",
       "      <td>Saturday</td>\n",
       "      <td>3</td>\n",
       "      <td>Break and Enter</td>\n",
       "      <td>D42</td>\n",
       "      <td>130</td>\n",
       "      <td>130</td>\n",
       "      <td>Other Commercial / Corporate Places (For Profi...</td>\n",
       "      <td>Commercial</td>\n",
       "      <td>2120</td>\n",
       "      <td>200</td>\n",
       "    </tr>\n",
       "    <tr>\n",
       "      <th>323293</th>\n",
       "      <td>GO-20222559486</td>\n",
       "      <td>2022/12/31 05:00:00+00</td>\n",
       "      <td>2022/12/22 05:00:00+00</td>\n",
       "      <td>2022.0</td>\n",
       "      <td>December</td>\n",
       "      <td>22.0</td>\n",
       "      <td>356.0</td>\n",
       "      <td>Thursday</td>\n",
       "      <td>16</td>\n",
       "      <td>Assault</td>\n",
       "      <td>D53</td>\n",
       "      <td>102</td>\n",
       "      <td>102</td>\n",
       "      <td>Apartment (Rooming House, Condo)</td>\n",
       "      <td>Apartment</td>\n",
       "      <td>1430</td>\n",
       "      <td>100</td>\n",
       "    </tr>\n",
       "    <tr>\n",
       "      <th>323294</th>\n",
       "      <td>GO-20222557956</td>\n",
       "      <td>2022/12/31 05:00:00+00</td>\n",
       "      <td>2022/12/31 05:00:00+00</td>\n",
       "      <td>2022.0</td>\n",
       "      <td>December</td>\n",
       "      <td>31.0</td>\n",
       "      <td>365.0</td>\n",
       "      <td>Saturday</td>\n",
       "      <td>4</td>\n",
       "      <td>Assault</td>\n",
       "      <td>D53</td>\n",
       "      <td>98</td>\n",
       "      <td>98</td>\n",
       "      <td>Convenience Stores</td>\n",
       "      <td>Commercial</td>\n",
       "      <td>1430</td>\n",
       "      <td>100</td>\n",
       "    </tr>\n",
       "    <tr>\n",
       "      <th>323295</th>\n",
       "      <td>GO-20222558010</td>\n",
       "      <td>2022/12/31 05:00:00+00</td>\n",
       "      <td>2022/12/31 05:00:00+00</td>\n",
       "      <td>2022.0</td>\n",
       "      <td>December</td>\n",
       "      <td>31.0</td>\n",
       "      <td>365.0</td>\n",
       "      <td>Saturday</td>\n",
       "      <td>4</td>\n",
       "      <td>Break and Enter</td>\n",
       "      <td>D43</td>\n",
       "      <td>138</td>\n",
       "      <td>138</td>\n",
       "      <td>Other Commercial / Corporate Places (For Profi...</td>\n",
       "      <td>Commercial</td>\n",
       "      <td>2120</td>\n",
       "      <td>200</td>\n",
       "    </tr>\n",
       "  </tbody>\n",
       "</table>\n",
       "<p>321843 rows × 17 columns</p>\n",
       "</div>"
      ],
      "text/plain": [
       "       EVENT_UNIQUE_ID             REPORT_DATE                OCC_DATE  \\\n",
       "1       GO-20141260701  2014/01/01 05:00:00+00  2014/01/01 05:00:00+00   \n",
       "2       GO-20141260889  2014/01/01 05:00:00+00  2014/01/01 05:00:00+00   \n",
       "3       GO-20141260973  2014/01/01 05:00:00+00  2014/01/01 05:00:00+00   \n",
       "4       GO-20141261050  2014/01/01 05:00:00+00  2014/01/01 05:00:00+00   \n",
       "5       GO-20141259344  2014/01/01 05:00:00+00  2014/01/01 05:00:00+00   \n",
       "...                ...                     ...                     ...   \n",
       "323291  GO-20222554300  2022/12/31 05:00:00+00  2022/12/22 05:00:00+00   \n",
       "323292  GO-20222557893  2022/12/31 05:00:00+00  2022/12/31 05:00:00+00   \n",
       "323293  GO-20222559486  2022/12/31 05:00:00+00  2022/12/22 05:00:00+00   \n",
       "323294  GO-20222557956  2022/12/31 05:00:00+00  2022/12/31 05:00:00+00   \n",
       "323295  GO-20222558010  2022/12/31 05:00:00+00  2022/12/31 05:00:00+00   \n",
       "\n",
       "        OCC_YEAR OCC_MONTH  OCC_DAY  OCC_DOY     OCC_DOW  OCC_HOUR  \\\n",
       "1         2014.0   January      1.0      1.0  Wednesday          3   \n",
       "2         2014.0   January      1.0      1.0  Wednesday          4   \n",
       "3         2014.0   January      1.0      1.0  Wednesday          4   \n",
       "4         2014.0   January      1.0      1.0  Wednesday          4   \n",
       "5         2014.0   January      1.0      1.0  Wednesday          2   \n",
       "...          ...       ...      ...      ...         ...       ...   \n",
       "323291    2022.0  December     22.0    356.0  Thursday           8   \n",
       "323292    2022.0  December     31.0    365.0  Saturday           3   \n",
       "323293    2022.0  December     22.0    356.0  Thursday          16   \n",
       "323294    2022.0  December     31.0    365.0  Saturday           4   \n",
       "323295    2022.0  December     31.0    365.0  Saturday           4   \n",
       "\n",
       "           MCI_CATEGORY DIVISION HOOD_158 HOOD_140  \\\n",
       "1       Break and Enter      D51       70       70   \n",
       "2               Assault      D51       74       74   \n",
       "3            Theft Over      NSA      NSA      NSA   \n",
       "4               Assault      D54       69       66   \n",
       "5               Assault      D52      164       77   \n",
       "...                 ...      ...      ...      ...   \n",
       "323291  Break and Enter      D41      119      119   \n",
       "323292  Break and Enter      D42      130      130   \n",
       "323293          Assault      D53      102      102   \n",
       "323294          Assault      D53       98       98   \n",
       "323295  Break and Enter      D43      138      138   \n",
       "\n",
       "                                            LOCATION_TYPE PREMISES_TYPE  \\\n",
       "1       Commercial Dwelling Unit (Hotel, Motel, B & B,...    Commercial   \n",
       "2                        Apartment (Rooming House, Condo)     Apartment   \n",
       "3       Streets, Roads, Highways (Bicycle Path, Privat...       Outside   \n",
       "4       Streets, Roads, Highways (Bicycle Path, Privat...       Outside   \n",
       "5                                        Bar / Restaurant    Commercial   \n",
       "...                                                   ...           ...   \n",
       "323291  Single Home, House (Attach Garage, Cottage, Mo...         House   \n",
       "323292  Other Commercial / Corporate Places (For Profi...    Commercial   \n",
       "323293                   Apartment (Rooming House, Condo)     Apartment   \n",
       "323294                                 Convenience Stores    Commercial   \n",
       "323295  Other Commercial / Corporate Places (For Profi...    Commercial   \n",
       "\n",
       "        UCR_CODE  UCR_EXT  \n",
       "1           2120      200  \n",
       "2           1430      100  \n",
       "3           2130      210  \n",
       "4           1430      100  \n",
       "5           1420      110  \n",
       "...          ...      ...  \n",
       "323291      2120      220  \n",
       "323292      2120      200  \n",
       "323293      1430      100  \n",
       "323294      1430      100  \n",
       "323295      2120      200  \n",
       "\n",
       "[321843 rows x 17 columns]"
      ]
     },
     "execution_count": 17,
     "metadata": {},
     "output_type": "execute_result"
    }
   ],
   "source": [
    "#drop \"stale\" crimes, where occurence is before 2014. \n",
    "#Since data set is filtered based on reported date, we're ignoring these old crimes.\n",
    "df2 = df2[df2['OCC_YEAR'] > 2013]\n",
    "df2"
   ]
  },
  {
   "cell_type": "code",
   "execution_count": 18,
   "id": "0355cab8",
   "metadata": {},
   "outputs": [],
   "source": [
    "#df2.REPORT_DATE=pd.to_datetime(df2.REPORT_DATE,format='%Y/%m/%d %H:%M:%S%z')\n",
    "#df2.OCC_DATE=pd.to_datetime(df2.OCC_DATE,format='%Y/%m/%d %H:%M:%S%z')"
   ]
  },
  {
   "cell_type": "code",
   "execution_count": 19,
   "id": "0bc92d8c",
   "metadata": {},
   "outputs": [
    {
     "name": "stdout",
     "output_type": "stream",
     "text": [
      "<class 'pandas.core.frame.DataFrame'>\n",
      "Int64Index: 321843 entries, 1 to 323295\n",
      "Data columns (total 17 columns):\n",
      " #   Column           Non-Null Count   Dtype  \n",
      "---  ------           --------------   -----  \n",
      " 0   EVENT_UNIQUE_ID  321843 non-null  object \n",
      " 1   REPORT_DATE      321843 non-null  object \n",
      " 2   OCC_DATE         321843 non-null  object \n",
      " 3   OCC_YEAR         321843 non-null  float64\n",
      " 4   OCC_MONTH        321843 non-null  object \n",
      " 5   OCC_DAY          321843 non-null  float64\n",
      " 6   OCC_DOY          321843 non-null  float64\n",
      " 7   OCC_DOW          321843 non-null  object \n",
      " 8   OCC_HOUR         321843 non-null  int64  \n",
      " 9   MCI_CATEGORY     321843 non-null  object \n",
      " 10  DIVISION         321843 non-null  object \n",
      " 11  HOOD_158         321843 non-null  object \n",
      " 12  HOOD_140         321843 non-null  object \n",
      " 13  LOCATION_TYPE    321843 non-null  object \n",
      " 14  PREMISES_TYPE    321843 non-null  object \n",
      " 15  UCR_CODE         321843 non-null  int64  \n",
      " 16  UCR_EXT          321843 non-null  int64  \n",
      "dtypes: float64(3), int64(3), object(11)\n",
      "memory usage: 44.2+ MB\n"
     ]
    }
   ],
   "source": [
    "df2.info()"
   ]
  },
  {
   "cell_type": "code",
   "execution_count": 20,
   "id": "450501c1",
   "metadata": {},
   "outputs": [
    {
     "data": {
      "text/plain": [
       "EVENT_UNIQUE_ID    0\n",
       "REPORT_DATE        0\n",
       "OCC_DATE           0\n",
       "OCC_YEAR           0\n",
       "OCC_MONTH          0\n",
       "OCC_DAY            0\n",
       "OCC_DOY            0\n",
       "OCC_DOW            0\n",
       "OCC_HOUR           0\n",
       "MCI_CATEGORY       0\n",
       "DIVISION           0\n",
       "HOOD_158           0\n",
       "HOOD_140           0\n",
       "LOCATION_TYPE      0\n",
       "PREMISES_TYPE      0\n",
       "UCR_CODE           0\n",
       "UCR_EXT            0\n",
       "dtype: int64"
      ]
     },
     "execution_count": 20,
     "metadata": {},
     "output_type": "execute_result"
    }
   ],
   "source": [
    "df2.isnull().sum()"
   ]
  },
  {
   "cell_type": "code",
   "execution_count": 21,
   "id": "b3a9ec3e",
   "metadata": {},
   "outputs": [
    {
     "name": "stdout",
     "output_type": "stream",
     "text": [
      "MCI_CATEGORY : ['Break and Enter' 'Assault' 'Theft Over' 'Robbery' 'Auto Theft']\n",
      "PREMISES_TYPE : ['Commercial' 'Apartment' 'Outside' 'Transit' 'House' 'Other'\n",
      " 'Educational']\n",
      "OCC_YEAR : [2014. 2015. 2016. 2017. 2018. 2019. 2020. 2021. 2022.]\n",
      "OCC_MONTH : ['January' 'February' 'March' 'April' 'May' 'June' 'July' 'August'\n",
      " 'September' 'October' 'November' 'December']\n",
      "OCC_DAY : [ 1.  2.  3.  4.  5.  6.  7.  8.  9. 10. 11. 12. 13. 14. 15. 16. 17. 18.\n",
      " 19. 20. 21. 22. 23. 24. 25. 26. 27. 28. 29. 30. 31.]\n",
      "OCC_DOW : ['Wednesday ' 'Thursday  ' 'Friday    ' 'Saturday  ' 'Sunday    '\n",
      " 'Monday    ' 'Tuesday   ']\n",
      "DIVISION : ['D51' 'NSA' 'D54' 'D52' 'D41' 'D14' 'D53' 'D43' 'D13' 'D22' 'D31' 'D32'\n",
      " 'D33' 'D55' 'D12' 'D11' 'D42' 'D23']\n",
      "HOOD_158 : ['70' '74' 'NSA' '69' '164' '126' '81' '95' '55' '143' '92' '172' '20'\n",
      " '136' '107' '27' '36' '170' '48' '61' '85' '72' '54' '94' '68' '154'\n",
      " '124' '122' '113' '80' '167' '37' '174' '78' '84' '148' '151' '59' '11'\n",
      " '58' '91' '142' '120' '115' '125' '156' '98' '155' '135' '123' '100'\n",
      " '160' '166' '105' '111' '71' '24' '141' '168' '13' '28' '9' '2' '129'\n",
      " '60' '73' '138' '42' '163' '52' '67' '44' '108' '47' '41' '146' '158'\n",
      " '18' '83' '32' '119' '25' '130' '86' '106' '35' '102' '133' '149' '46'\n",
      " '19' '29' '171' '62' '159' '56' '89' '116' '88' '96' '40' '162' '173'\n",
      " '134' '112' '22' '31' '152' '128' '57' '101' '50' '21' '6' '79' '157'\n",
      " '87' '15' '64' '23' '165' '144' '39' '153' '30' '150' '121' '90' '139'\n",
      " '34' '114' '43' '118' '110' '7' '1' '10' '66' '109' '33' '8' '140' '103'\n",
      " '53' '145' '16' '49' '65' '169' '63' '147' '97' '38' '161' '12' '3' '5'\n",
      " '4' '99']\n",
      "HOOD_140 : ['70' '74' 'NSA' '66' '77' '126' '81' '95' '55' '131' '92' '93' '20' '136'\n",
      " '78' '107' '27' '36' '76' '48' '61' '85' '72' '54' '94' '68' '26' '124'\n",
      " '122' '113' '75' '37' '104' '84' '130' '51' '59' '11' '58' '91' '137'\n",
      " '120' '115' '125' '127' '98' '135' '123' '100' '17' '69' '105' '111' '71'\n",
      " '24' '80' '13' '28' '9' '2' '129' '60' '73' '138' '42' '82' '52' '67'\n",
      " '44' '108' '47' '41' '132' '14' '18' '83' '32' '119' '25' '86' '106' '35'\n",
      " '102' '133' '45' '46' '19' '117' '29' '62' '56' '89' '116' '88' '96' '40'\n",
      " '134' '112' '22' '31' '128' '57' '101' '50' '21' '6' '79' '87' '15' '64'\n",
      " '23' '39' '30' '121' '90' '139' '34' '114' '43' '118' '110' '7' '1' '10'\n",
      " '109' '33' '8' '140' '103' '53' '16' '49' '65' '63' '97' '38' '12' '3'\n",
      " '5' '4' '99']\n",
      "OCC_HOUR : [ 3  4  2  1  0  7  8 12 11  9  6 13 15 14 16 18 20 17 21 19 23 10 22  5]\n",
      "OCC_DOY : [  1.   2.   3.   4.   5.   6.   7.   8.   9.  10.  11.  12.  13.  14.\n",
      "  15.  16.  17.  18.  19.  20.  21.  22.  23.  24.  25.  26.  27.  28.\n",
      "  29.  30.  31.  32.  33.  34.  35.  36.  37.  38.  39.  40.  41.  42.\n",
      "  43.  44.  45.  46.  47.  48.  49.  50.  51.  52.  53.  54.  55.  56.\n",
      "  57.  58.  59.  60.  61.  62.  63.  64.  65.  66.  67.  68.  69.  70.\n",
      "  71.  72.  73.  74.  75.  76.  77.  78.  79.  80.  81.  82.  83.  84.\n",
      "  85.  86.  87.  88.  89.  90.  91.  92.  93.  94.  95.  96.  97.  98.\n",
      "  99. 100. 101. 102. 103. 104. 105. 106. 107. 108. 109. 110. 111. 112.\n",
      " 113. 114. 115. 116. 117. 118. 119. 120. 121. 122. 123. 124. 125. 126.\n",
      " 127. 128. 129. 130. 131. 132. 133. 134. 135. 136. 137. 138. 139. 140.\n",
      " 141. 142. 143. 144. 145. 146. 147. 148. 149. 150. 151. 152. 153. 154.\n",
      " 155. 156. 157. 158. 159. 160. 161. 162. 163. 164. 165. 166. 167. 168.\n",
      " 169. 170. 171. 172. 173. 174. 175. 176. 177. 178. 179. 180. 181. 182.\n",
      " 183. 184. 185. 186. 187. 188. 189. 190. 191. 192. 193. 194. 195. 196.\n",
      " 197. 198. 199. 200. 201. 202. 203. 204. 205. 206. 207. 208. 209. 210.\n",
      " 211. 212. 213. 214. 215. 216. 217. 218. 219. 220. 221. 222. 223. 224.\n",
      " 225. 226. 227. 228. 229. 230. 231. 232. 233. 234. 235. 236. 237. 238.\n",
      " 239. 240. 241. 242. 243. 244. 245. 246. 247. 248. 249. 250. 251. 252.\n",
      " 253. 254. 255. 256. 257. 258. 259. 260. 261. 262. 263. 264. 265. 266.\n",
      " 267. 268. 269. 270. 271. 272. 273. 274. 275. 276. 277. 278. 279. 280.\n",
      " 281. 282. 283. 284. 285. 286. 287. 288. 289. 290. 291. 292. 293. 294.\n",
      " 295. 296. 297. 298. 299. 300. 301. 302. 303. 304. 305. 306. 307. 308.\n",
      " 309. 310. 311. 312. 313. 314. 315. 316. 317. 318. 319. 320. 321. 322.\n",
      " 323. 324. 325. 326. 327. 328. 329. 330. 331. 332. 333. 334. 335. 336.\n",
      " 337. 338. 339. 340. 341. 342. 343. 344. 345. 346. 347. 348. 349. 350.\n",
      " 351. 352. 353. 354. 355. 356. 357. 358. 359. 360. 361. 362. 363. 364.\n",
      " 365. 366.]\n"
     ]
    }
   ],
   "source": [
    "columns=['MCI_CATEGORY','PREMISES_TYPE','OCC_YEAR','OCC_MONTH','OCC_DAY','OCC_DOW','DIVISION','HOOD_158','HOOD_140','OCC_HOUR','OCC_DOY']\n",
    "for i in columns:\n",
    "  print(i, \":\" ,df2[i].unique())"
   ]
  },
  {
   "cell_type": "code",
   "execution_count": 22,
   "id": "f8f2dbcd",
   "metadata": {},
   "outputs": [
    {
     "data": {
      "text/plain": [
       "array([0, 1, 2, 3, 4], dtype=int64)"
      ]
     },
     "execution_count": 22,
     "metadata": {},
     "output_type": "execute_result"
    }
   ],
   "source": [
    "#Factorize dependent variable column:\n",
    "crime_var = pd.factorize(df2['MCI_CATEGORY']) #codes the list of crimes to a int64 variable\n",
    "df2['MCI_CATEGORY'] = crime_var[0]\n",
    "definition_list_MCI = crime_var[1] #create an index reference so we know which crimes are coded to which factors\n",
    "df2['MCI_CATEGORY'].unique()"
   ]
  },
  {
   "cell_type": "code",
   "execution_count": 23,
   "id": "456598d4",
   "metadata": {},
   "outputs": [
    {
     "data": {
      "text/plain": [
       "array([0, 1, 2, 3, 4, 5, 6], dtype=int64)"
      ]
     },
     "execution_count": 23,
     "metadata": {},
     "output_type": "execute_result"
    }
   ],
   "source": [
    "#factorize independent variables:\n",
    "#factorize PREMISES_TYPE:\n",
    "\n",
    "premise_var = pd.factorize(df2['PREMISES_TYPE'])\n",
    "df2['PREMISES_TYPE'] = premise_var[0]\n",
    "definition_list_premise = premise_var[1] \n",
    "df2['PREMISES_TYPE'].unique()"
   ]
  },
  {
   "cell_type": "code",
   "execution_count": 24,
   "id": "12635dcd",
   "metadata": {},
   "outputs": [
    {
     "data": {
      "text/plain": [
       "array([0, 1, 2, 3, 4, 5, 6, 7, 8], dtype=int64)"
      ]
     },
     "execution_count": 24,
     "metadata": {},
     "output_type": "execute_result"
    }
   ],
   "source": [
    "#factorize OCC_YEAR:\n",
    "\n",
    "year_var = pd.factorize(df2['OCC_YEAR'])\n",
    "df2['OCC_YEAR'] = year_var[0]\n",
    "definition_list_year = year_var[1] \n",
    "df2['OCC_YEAR'].unique()"
   ]
  },
  {
   "cell_type": "code",
   "execution_count": 25,
   "id": "1f09ffdd",
   "metadata": {},
   "outputs": [
    {
     "data": {
      "text/plain": [
       "array([ 0,  1,  2,  3,  4,  5,  6,  7,  8,  9, 10, 11], dtype=int64)"
      ]
     },
     "execution_count": 25,
     "metadata": {},
     "output_type": "execute_result"
    }
   ],
   "source": [
    "#factorize OCC_MONTH:\n",
    "\n",
    "month_var = pd.factorize(df2['OCC_MONTH'])\n",
    "df2['OCC_MONTH'] = month_var[0]\n",
    "definition_list_month = month_var[1]\n",
    "df2['OCC_MONTH'].unique()"
   ]
  },
  {
   "cell_type": "code",
   "execution_count": 26,
   "id": "23d7264e",
   "metadata": {},
   "outputs": [
    {
     "data": {
      "text/plain": [
       "array([ 0,  1,  2,  3,  4,  5,  6,  7,  8,  9, 10, 11, 12, 13, 14, 15, 16,\n",
       "       17, 18, 19, 20, 21, 22, 23, 24, 25, 26, 27, 28, 29, 30],\n",
       "      dtype=int64)"
      ]
     },
     "execution_count": 26,
     "metadata": {},
     "output_type": "execute_result"
    }
   ],
   "source": [
    "#factorize OCC_DAY:\n",
    "\n",
    "day_var = pd.factorize(df2['OCC_DAY'])\n",
    "df2['OCC_DAY'] = day_var[0]\n",
    "definition_list_day = day_var[1] \n",
    "df2['OCC_DAY'].unique()"
   ]
  },
  {
   "cell_type": "code",
   "execution_count": 27,
   "id": "f8f823de",
   "metadata": {},
   "outputs": [
    {
     "data": {
      "text/plain": [
       "array([0, 1, 2, 3, 4, 5, 6], dtype=int64)"
      ]
     },
     "execution_count": 27,
     "metadata": {},
     "output_type": "execute_result"
    }
   ],
   "source": [
    "#factorize OCC_DOW:\n",
    "\n",
    "dayweek_var = pd.factorize(df2['OCC_DOW'])\n",
    "df2['OCC_DOW'] = dayweek_var[0]\n",
    "definition_list_day = dayweek_var[1] \n",
    "df2['OCC_DOW'].unique()"
   ]
  },
  {
   "cell_type": "code",
   "execution_count": 28,
   "id": "0f8e9349",
   "metadata": {},
   "outputs": [
    {
     "data": {
      "text/plain": [
       "array([ 0,  1,  2,  3,  4,  5,  6,  7,  8,  9, 10, 11, 12, 13, 14, 15, 16,\n",
       "       17], dtype=int64)"
      ]
     },
     "execution_count": 28,
     "metadata": {},
     "output_type": "execute_result"
    }
   ],
   "source": [
    "#factorize DIVISION:\n",
    "\n",
    "division_var = pd.factorize(df2['DIVISION'])\n",
    "df2['DIVISION'] = division_var[0]\n",
    "definition_list_division = division_var[1] \n",
    "df2['DIVISION'].unique()"
   ]
  },
  {
   "cell_type": "code",
   "execution_count": 29,
   "id": "7af08d8e",
   "metadata": {},
   "outputs": [
    {
     "data": {
      "text/plain": [
       "array([  0,   1,   2,   3,   4,   5,   6,   7,   8,   9,  10,  11,  12,\n",
       "        13,  14,  15,  16,  17,  18,  19,  20,  21,  22,  23,  24,  25,\n",
       "        26,  27,  28,  29,  30,  31,  32,  33,  34,  35,  36,  37,  38,\n",
       "        39,  40,  41,  42,  43,  44,  45,  46,  47,  48,  49,  50,  51,\n",
       "        52,  53,  54,  55,  56,  57,  58,  59,  60,  61,  62,  63,  64,\n",
       "        65,  66,  67,  68,  69,  70,  71,  72,  73,  74,  75,  76,  77,\n",
       "        78,  79,  80,  81,  82,  83,  84,  85,  86,  87,  88,  89,  90,\n",
       "        91,  92,  93,  94,  95,  96,  97,  98,  99, 100, 101, 102, 103,\n",
       "       104, 105, 106, 107, 108, 109, 110, 111, 112, 113, 114, 115, 116,\n",
       "       117, 118, 119, 120, 121, 122, 123, 124, 125, 126, 127, 128, 129,\n",
       "       130, 131, 132, 133, 134, 135, 136, 137, 138, 139, 140, 141, 142,\n",
       "       143, 144, 145, 146, 147, 148, 149, 150, 151, 152, 153, 154, 155,\n",
       "       156, 157, 158], dtype=int64)"
      ]
     },
     "execution_count": 29,
     "metadata": {},
     "output_type": "execute_result"
    }
   ],
   "source": [
    "#factorize HOOD_158:\n",
    "\n",
    "hood_var = pd.factorize(df2['HOOD_158'])\n",
    "df2['HOOD_158'] = hood_var[0]\n",
    "definition_list_hood = hood_var[1]\n",
    "df2['HOOD_158'].unique()"
   ]
  },
  {
   "cell_type": "code",
   "execution_count": 30,
   "id": "5e9682c0",
   "metadata": {},
   "outputs": [
    {
     "data": {
      "text/plain": [
       "array([  0,   1,   2,   3,   4,   5,   6,   7,   8,   9,  10,  11,  12,\n",
       "        13,  14,  15,  16,  17,  18,  19,  20,  21,  22,  23,  24,  25,\n",
       "        26,  27,  28,  29,  30,  31,  32,  33,  34,  35,  36,  37,  38,\n",
       "        39,  40,  41,  42,  43,  44,  45,  46,  47,  48,  49,  50,  51,\n",
       "        52,  53,  54,  55,  56,  57,  58,  59,  60,  61,  62,  63,  64,\n",
       "        65,  66,  67,  68,  69,  70,  71,  72,  73,  74,  75,  76,  77,\n",
       "        78,  79,  80,  81,  82,  83,  84,  85,  86,  87,  88,  89,  90,\n",
       "        91,  92,  93,  94,  95,  96,  97,  98,  99, 100, 101, 102, 103,\n",
       "       104, 105, 106, 107, 108, 109, 110, 111, 112, 113, 114, 115, 116,\n",
       "       117, 118, 119, 120, 121, 122, 123, 124, 125, 126, 127, 128, 129,\n",
       "       130, 131, 132, 133, 134, 135, 136, 137, 138, 139, 140], dtype=int64)"
      ]
     },
     "execution_count": 30,
     "metadata": {},
     "output_type": "execute_result"
    }
   ],
   "source": [
    "#factorize HOOD_140:\n",
    "\n",
    "hood_var = pd.factorize(df2['HOOD_140'])\n",
    "df2['HOOD_140'] = hood_var[0]\n",
    "definition_list_hood = hood_var[1]\n",
    "df2['HOOD_140'].unique()"
   ]
  },
  {
   "cell_type": "code",
   "execution_count": 31,
   "id": "044aad41",
   "metadata": {},
   "outputs": [
    {
     "data": {
      "text/plain": [
       "array([ 0,  1,  2,  3,  4,  5,  6,  7,  8,  9, 10, 11, 12, 13, 14, 15, 16,\n",
       "       17, 18, 19, 20, 21, 22, 23], dtype=int64)"
      ]
     },
     "execution_count": 31,
     "metadata": {},
     "output_type": "execute_result"
    }
   ],
   "source": [
    "#factorize OCC_HOUR:\n",
    "\n",
    "hour_var = pd.factorize(df2['OCC_HOUR'])\n",
    "df2['OCC_HOUR'] = hour_var[0]\n",
    "definition_list_hour = hour_var[1] \n",
    "df2['OCC_HOUR'].unique()"
   ]
  },
  {
   "cell_type": "code",
   "execution_count": 32,
   "id": "92340789",
   "metadata": {},
   "outputs": [
    {
     "data": {
      "text/plain": [
       "array([  0,   1,   2,   3,   4,   5,   6,   7,   8,   9,  10,  11,  12,\n",
       "        13,  14,  15,  16,  17,  18,  19,  20,  21,  22,  23,  24,  25,\n",
       "        26,  27,  28,  29,  30,  31,  32,  33,  34,  35,  36,  37,  38,\n",
       "        39,  40,  41,  42,  43,  44,  45,  46,  47,  48,  49,  50,  51,\n",
       "        52,  53,  54,  55,  56,  57,  58,  59,  60,  61,  62,  63,  64,\n",
       "        65,  66,  67,  68,  69,  70,  71,  72,  73,  74,  75,  76,  77,\n",
       "        78,  79,  80,  81,  82,  83,  84,  85,  86,  87,  88,  89,  90,\n",
       "        91,  92,  93,  94,  95,  96,  97,  98,  99, 100, 101, 102, 103,\n",
       "       104, 105, 106, 107, 108, 109, 110, 111, 112, 113, 114, 115, 116,\n",
       "       117, 118, 119, 120, 121, 122, 123, 124, 125, 126, 127, 128, 129,\n",
       "       130, 131, 132, 133, 134, 135, 136, 137, 138, 139, 140, 141, 142,\n",
       "       143, 144, 145, 146, 147, 148, 149, 150, 151, 152, 153, 154, 155,\n",
       "       156, 157, 158, 159, 160, 161, 162, 163, 164, 165, 166, 167, 168,\n",
       "       169, 170, 171, 172, 173, 174, 175, 176, 177, 178, 179, 180, 181,\n",
       "       182, 183, 184, 185, 186, 187, 188, 189, 190, 191, 192, 193, 194,\n",
       "       195, 196, 197, 198, 199, 200, 201, 202, 203, 204, 205, 206, 207,\n",
       "       208, 209, 210, 211, 212, 213, 214, 215, 216, 217, 218, 219, 220,\n",
       "       221, 222, 223, 224, 225, 226, 227, 228, 229, 230, 231, 232, 233,\n",
       "       234, 235, 236, 237, 238, 239, 240, 241, 242, 243, 244, 245, 246,\n",
       "       247, 248, 249, 250, 251, 252, 253, 254, 255, 256, 257, 258, 259,\n",
       "       260, 261, 262, 263, 264, 265, 266, 267, 268, 269, 270, 271, 272,\n",
       "       273, 274, 275, 276, 277, 278, 279, 280, 281, 282, 283, 284, 285,\n",
       "       286, 287, 288, 289, 290, 291, 292, 293, 294, 295, 296, 297, 298,\n",
       "       299, 300, 301, 302, 303, 304, 305, 306, 307, 308, 309, 310, 311,\n",
       "       312, 313, 314, 315, 316, 317, 318, 319, 320, 321, 322, 323, 324,\n",
       "       325, 326, 327, 328, 329, 330, 331, 332, 333, 334, 335, 336, 337,\n",
       "       338, 339, 340, 341, 342, 343, 344, 345, 346, 347, 348, 349, 350,\n",
       "       351, 352, 353, 354, 355, 356, 357, 358, 359, 360, 361, 362, 363,\n",
       "       364, 365], dtype=int64)"
      ]
     },
     "execution_count": 32,
     "metadata": {},
     "output_type": "execute_result"
    }
   ],
   "source": [
    "#factorize OCC_DOY:\n",
    "\n",
    "dayyear_var = pd.factorize(df2['OCC_DOY'])\n",
    "df2['OCC_DOY'] = dayyear_var[0]\n",
    "definition_list_dayyear = dayyear_var[1]\n",
    "df2['OCC_DOY'].unique()"
   ]
  },
  {
   "cell_type": "markdown",
   "id": "cc8cd54d",
   "metadata": {},
   "source": [
    "# Splitting the data into X and Y "
   ]
  },
  {
   "cell_type": "code",
   "execution_count": 33,
   "id": "cd02aad4",
   "metadata": {},
   "outputs": [],
   "source": [
    "from sklearn.preprocessing import OneHotEncoder, label_binarize, StandardScaler, MinMaxScaler\n",
    "from sklearn.impute import SimpleImputer\n",
    "from sklearn.model_selection import train_test_split\n",
    "\n",
    "from sklearn.linear_model import LogisticRegression\n",
    "from sklearn.tree import DecisionTreeClassifier\n",
    "from sklearn.neighbors import KNeighborsClassifier\n",
    "\n",
    "\n",
    "from sklearn.pipeline import Pipeline\n",
    "from sklearn.compose import ColumnTransformer\n",
    "\n",
    "from sklearn.model_selection import cross_val_score,GridSearchCV,cross_validate\n",
    "from sklearn.metrics import precision_score, recall_score, f1_score,accuracy_score,confusion_matrix,roc_auc_score\n",
    "from sklearn.metrics import roc_curve, auc,classification_report\n",
    "from sklearn.model_selection import cross_validate\n",
    "from sklearn.multiclass import OneVsRestClassifier\n",
    "from sklearn.metrics import confusion_matrix"
   ]
  },
  {
   "cell_type": "code",
   "execution_count": 34,
   "id": "3b23ffe8",
   "metadata": {},
   "outputs": [
    {
     "name": "stdout",
     "output_type": "stream",
     "text": [
      "Records in training data: 257,474\n",
      "Records in test data: 64,369\n",
      "\n",
      "Features:\n",
      "EVENT_UNIQUE_ID\n",
      "DIVISION\n",
      "LOCATION_TYPE\n",
      "PREMISES_TYPE\n",
      "UCR_CODE\n",
      "UCR_EXT\n"
     ]
    }
   ],
   "source": [
    "X = df2[['EVENT_UNIQUE_ID','DIVISION','LOCATION_TYPE','PREMISES_TYPE','UCR_CODE','UCR_EXT']]\n",
    "y = df2['MCI_CATEGORY']\n",
    "\n",
    "X_train, X_test, y_train, y_test = train_test_split(X, y, test_size=0.2, random_state=100)\n",
    "\n",
    "print(f'Records in training data: {X_train.shape[0]:,}')\n",
    "print(f'Records in test data: {X_test.shape[0]:,}')\n",
    "print('\\nFeatures:')\n",
    "print(*X_train.columns, sep='\\n')"
   ]
  },
  {
   "cell_type": "markdown",
   "id": "16958726",
   "metadata": {},
   "source": [
    "## Creating pipeline:"
   ]
  },
  {
   "cell_type": "code",
   "execution_count": 35,
   "id": "a90159b1",
   "metadata": {},
   "outputs": [
    {
     "data": {
      "text/plain": [
       "['EVENT_UNIQUE_ID', 'LOCATION_TYPE']"
      ]
     },
     "execution_count": 35,
     "metadata": {},
     "output_type": "execute_result"
    }
   ],
   "source": [
    "Mylist_Categorical = list(X.select_dtypes(include=['object']).columns)\n",
    "Mylist_Categorical"
   ]
  },
  {
   "cell_type": "code",
   "execution_count": 36,
   "id": "ee70f889",
   "metadata": {},
   "outputs": [
    {
     "data": {
      "text/plain": [
       "['DIVISION', 'PREMISES_TYPE', 'UCR_CODE', 'UCR_EXT']"
      ]
     },
     "execution_count": 36,
     "metadata": {},
     "output_type": "execute_result"
    }
   ],
   "source": [
    "Mylist_Numerical = list(X.select_dtypes(exclude=['object']).columns)\n",
    "Mylist_Numerical"
   ]
  },
  {
   "cell_type": "code",
   "execution_count": 37,
   "id": "e317ffc2",
   "metadata": {},
   "outputs": [],
   "source": [
    "Numerical_pipeline = Pipeline([('impute_missing', SimpleImputer(strategy='median')),\n",
    "                           ('standardize_num', StandardScaler())\n",
    "                        ])"
   ]
  },
  {
   "cell_type": "code",
   "execution_count": 38,
   "id": "ecbbdf26",
   "metadata": {},
   "outputs": [
    {
     "data": {
      "text/plain": [
       "(257474, 229856)"
      ]
     },
     "execution_count": 38,
     "metadata": {},
     "output_type": "execute_result"
    }
   ],
   "source": [
    "Categorical_Pipeline = Pipeline([('impute_missing', SimpleImputer(strategy='most_frequent')),\n",
    "                          ('create_dummies_cats', OneHotEncoder(handle_unknown='ignore'))])\n",
    "Cat = Categorical_Pipeline.fit_transform(np.array(X_train[Mylist_Categorical]))\n",
    "Cat.shape"
   ]
  },
  {
   "cell_type": "code",
   "execution_count": 39,
   "id": "51651cd8",
   "metadata": {},
   "outputs": [
    {
     "name": "stdout",
     "output_type": "stream",
     "text": [
      "ColumnTransformer(transformers=[('proc_numeric',\n",
      "                                 Pipeline(steps=[('impute_missing',\n",
      "                                                  SimpleImputer(strategy='median')),\n",
      "                                                 ('standardize_num',\n",
      "                                                  StandardScaler())]),\n",
      "                                 ['DIVISION', 'PREMISES_TYPE', 'UCR_CODE',\n",
      "                                  'UCR_EXT']),\n",
      "                                ('create_dummies',\n",
      "                                 Pipeline(steps=[('impute_missing',\n",
      "                                                  SimpleImputer(strategy='most_frequent')),\n",
      "                                                 ('create_dummies_cats',\n",
      "                                                  OneHotEncoder(handle_unknown='ignore'))]),\n",
      "                                 ['EVENT_UNIQUE_ID', 'LOCATION_TYPE'])])\n"
     ]
    }
   ],
   "source": [
    "Processing_Pipeline = ColumnTransformer(transformers=[('proc_numeric', Numerical_pipeline,  Mylist_Numerical),\n",
    "                                                      ('create_dummies',Categorical_Pipeline, Mylist_Categorical)])\n",
    "Proc_Pipeline = Processing_Pipeline.fit_transform(X_train)\n",
    "\n",
    "print(Processing_Pipeline)"
   ]
  },
  {
   "cell_type": "code",
   "execution_count": 40,
   "id": "9d9c1c8e",
   "metadata": {},
   "outputs": [
    {
     "data": {
      "text/plain": [
       "{'model__C': 5, 'model__penalty': 'l2'}"
      ]
     },
     "execution_count": 40,
     "metadata": {},
     "output_type": "execute_result"
    }
   ],
   "source": [
    "Logistic_Regression_Model_Pipeline_1 = Pipeline([('processing_pipeline',Processing_Pipeline),\n",
    "                                     ('model', LogisticRegression(max_iter=1000))])\n",
    "params = [{'model__C':[0.1,0.3,0.5,1.0,5], 'model__penalty': ['l2']},{'model__penalty':['none']}]\n",
    "Logistic_regression_model_1 = GridSearchCV(Logistic_Regression_Model_Pipeline_1,param_grid=params,cv=5,scoring='accuracy')\n",
    "Logistic_regression_model_1 = Logistic_regression_model_1.fit(X_train,y_train)\n",
    "Logistic_regression_model_1.best_params_"
   ]
  },
  {
   "cell_type": "code",
   "execution_count": 41,
   "id": "c4efe3ac",
   "metadata": {},
   "outputs": [
    {
     "name": "stdout",
     "output_type": "stream",
     "text": [
      "Test Score:  97.66%\n"
     ]
    }
   ],
   "source": [
    "print(f'Test Score: {Logistic_regression_model_1.score(X_test, y_test): .2%}')  "
   ]
  },
  {
   "cell_type": "code",
   "execution_count": 51,
   "id": "73790cb8",
   "metadata": {},
   "outputs": [
    {
     "name": "stdout",
     "output_type": "stream",
     "text": [
      "              precision    recall  f1-score   support\n",
      "\n",
      "           0       0.94      1.00      0.97     12457\n",
      "           1       1.00      1.00      1.00     34336\n",
      "           2       0.96      0.32      0.48      2145\n",
      "           3       1.00      1.00      1.00      6140\n",
      "           4       0.93      1.00      0.96      9291\n",
      "\n",
      "    accuracy                           0.98     64369\n",
      "   macro avg       0.97      0.86      0.88     64369\n",
      "weighted avg       0.98      0.98      0.97     64369\n",
      "\n"
     ]
    }
   ],
   "source": [
    "print(classification_report(y_test, Logistic_regression_model_1.best_estimator_.predict(X_test)))"
   ]
  },
  {
   "cell_type": "markdown",
   "id": "9689615b",
   "metadata": {},
   "source": [
    "# Results:"
   ]
  },
  {
   "cell_type": "markdown",
   "id": "49fc13e4",
   "metadata": {},
   "source": [
    "### Logistic Regression Classifier\n",
    "1. Logistic Regression Score: 97.66%\n",
    "2. Auccuracy Score: 98%\n"
   ]
  },
  {
   "cell_type": "markdown",
   "id": "27c688f5",
   "metadata": {},
   "source": [
    "### Further Exploration:\n",
    "1. A typical approach is, to improve a model to use more data. In this case, I have only taken the useful data but including whole can improve the overall score.\n",
    "2. We could try various techniques, such as a Random forest classifer,Gradient boosting, but this could lead to additional problems and is overkill.\n",
    "3. For more exploration we can use ensemble models, by using this the scores may get imporved."
   ]
  },
  {
   "cell_type": "code",
   "execution_count": null,
   "id": "967b5a22",
   "metadata": {},
   "outputs": [],
   "source": []
  }
 ],
 "metadata": {
  "kernelspec": {
   "display_name": "Python 3 (ipykernel)",
   "language": "python",
   "name": "python3"
  },
  "language_info": {
   "codemirror_mode": {
    "name": "ipython",
    "version": 3
   },
   "file_extension": ".py",
   "mimetype": "text/x-python",
   "name": "python",
   "nbconvert_exporter": "python",
   "pygments_lexer": "ipython3",
   "version": "3.9.12"
  }
 },
 "nbformat": 4,
 "nbformat_minor": 5
}
